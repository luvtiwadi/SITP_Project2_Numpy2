{
 "cells": [
  {
   "cell_type": "code",
   "execution_count": 2,
   "id": "6e341d80",
   "metadata": {},
   "outputs": [],
   "source": [
    "import csv\n",
    "import numpy as np"
   ]
  },
  {
   "cell_type": "code",
   "execution_count": 3,
   "id": "bd07806e",
   "metadata": {},
   "outputs": [],
   "source": [
    "data=[]\n",
    "with open(\"./Downloads/MER_T07_02A-2020-02-03.csv\",'r') as csvfile:\n",
    "    file_reader=csv.reader(csvfile,delimiter=',')\n",
    "    for row in file_reader:\n",
    "        data.append(row)\n",
    "\n",
    "data=np.array(data)"
   ]
  },
  {
   "cell_type": "code",
   "execution_count": 4,
   "id": "88101424",
   "metadata": {},
   "outputs": [
    {
     "data": {
      "text/plain": [
       "array([['MSN', 'YYYYMM', 'Value', 'Column_Order', 'Description', 'Unit'],\n",
       "       ['CLETPUS', '194913', '135451.32', '1',\n",
       "        'Electricity Net Generation From Coal, All Sectors',\n",
       "        'Million Kilowatthours'],\n",
       "       ['CLETPUS', '195013', '154519.994', '1',\n",
       "        'Electricity Net Generation From Coal, All Sectors',\n",
       "        'Million Kilowatthours'],\n",
       "       ...,\n",
       "       ['ELETPUS', '201908', '401363.186', '13',\n",
       "        'Electricity Net Generation Total (including from sources not shown), All Sectors',\n",
       "        'Million Kilowatthours'],\n",
       "       ['ELETPUS', '201909', '359300.603', '13',\n",
       "        'Electricity Net Generation Total (including from sources not shown), All Sectors',\n",
       "        'Million Kilowatthours'],\n",
       "       ['ELETPUS', '201910', '321921.812', '13',\n",
       "        'Electricity Net Generation Total (including from sources not shown), All Sectors',\n",
       "        'Million Kilowatthours']], dtype='<U80')"
      ]
     },
     "execution_count": 4,
     "metadata": {},
     "output_type": "execute_result"
    }
   ],
   "source": [
    "data"
   ]
  },
  {
   "cell_type": "code",
   "execution_count": 5,
   "id": "aef010de",
   "metadata": {},
   "outputs": [],
   "source": [
    "data1=data.reshape(8217,6)"
   ]
  },
  {
   "cell_type": "code",
   "execution_count": 6,
   "id": "de043697",
   "metadata": {},
   "outputs": [
    {
     "data": {
      "text/plain": [
       "array([['MSN', 'YYYYMM', 'Value', 'Column_Order', 'Description', 'Unit'],\n",
       "       ['CLETPUS', '194913', '135451.32', '1',\n",
       "        'Electricity Net Generation From Coal, All Sectors',\n",
       "        'Million Kilowatthours'],\n",
       "       ['CLETPUS', '195013', '154519.994', '1',\n",
       "        'Electricity Net Generation From Coal, All Sectors',\n",
       "        'Million Kilowatthours'],\n",
       "       ...,\n",
       "       ['ELETPUS', '201908', '401363.186', '13',\n",
       "        'Electricity Net Generation Total (including from sources not shown), All Sectors',\n",
       "        'Million Kilowatthours'],\n",
       "       ['ELETPUS', '201909', '359300.603', '13',\n",
       "        'Electricity Net Generation Total (including from sources not shown), All Sectors',\n",
       "        'Million Kilowatthours'],\n",
       "       ['ELETPUS', '201910', '321921.812', '13',\n",
       "        'Electricity Net Generation Total (including from sources not shown), All Sectors',\n",
       "        'Million Kilowatthours']], dtype='<U80')"
      ]
     },
     "execution_count": 6,
     "metadata": {},
     "output_type": "execute_result"
    }
   ],
   "source": [
    "data1"
   ]
  },
  {
   "cell_type": "code",
   "execution_count": 7,
   "id": "994a1e68",
   "metadata": {},
   "outputs": [],
   "source": [
    "important_features=[]\n",
    "for i in data1[0,:]:\n",
    "    important_features.append(i)\n",
    "dimension=data1.ndim\n",
    "shape=data1.shape\n",
    "l1=[]\n",
    "for i in range(6):\n",
    "    l1.append(type(data1[0][i]))\n",
    "datatype=[important_features,l1]"
   ]
  },
  {
   "cell_type": "code",
   "execution_count": 8,
   "id": "088f8e20",
   "metadata": {},
   "outputs": [
    {
     "name": "stdout",
     "output_type": "stream",
     "text": [
      "Ans 1\n",
      " Important feature : ['MSN', 'YYYYMM', 'Value', 'Column_Order', 'Description', 'Unit']\n",
      "Dimensions : 2\n",
      "Shape : (8217, 6)\n",
      "Datatypes of columns are \n",
      "MSN ===> <class 'numpy.str_'>\n",
      "YYYYMM ===> <class 'numpy.str_'>\n",
      "Value ===> <class 'numpy.str_'>\n",
      "Column_Order ===> <class 'numpy.str_'>\n",
      "Description ===> <class 'numpy.str_'>\n"
     ]
    }
   ],
   "source": [
    "print(\"Ans 1\\n Important feature :\",important_features)\n",
    "\n",
    "print(\"Dimensions :\",dimension)\n",
    "print(\"Shape :\",shape)\n",
    "print(\"Datatypes of columns are \")\n",
    "for i in range(5):\n",
    "    print(datatype[0][i],\"===>\",datatype[1][i])"
   ]
  },
  {
   "cell_type": "code",
   "execution_count": 9,
   "id": "7759f4e7",
   "metadata": {},
   "outputs": [
    {
     "name": "stdout",
     "output_type": "stream",
     "text": [
      "Ans 2\n",
      "Data of first 10 rows of 4 columns\n",
      "['Column_Order' '1' '1' '1' '1' '1' '1' '1' '1' '1']\n"
     ]
    }
   ],
   "source": [
    "print(\"Ans 2\")\n",
    "print(\"Data of first 10 rows of 4 columns\")\n",
    "print(data1[:10,3])"
   ]
  },
  {
   "cell_type": "code",
   "execution_count": 10,
   "id": "967c74b8",
   "metadata": {},
   "outputs": [
    {
     "name": "stdout",
     "output_type": "stream",
     "text": [
      "Ans 3\n",
      " Zero row serves as the header/titles for all the columns\n"
     ]
    }
   ],
   "source": [
    "print(\"Ans 3\")\n",
    "print(\" Zero row serves as the header/titles for all the columns\")"
   ]
  },
  {
   "cell_type": "code",
   "execution_count": 11,
   "id": "cb68c67c",
   "metadata": {},
   "outputs": [
    {
     "name": "stdout",
     "output_type": "stream",
     "text": [
      "Ans 4\n",
      "Data contained in columns 2 and 3 from row 1 till row 20\n",
      "[['135451.32' '1']\n",
      " ['154519.994' '1']\n",
      " ['185203.657' '1']\n",
      " ['195436.666' '1']\n",
      " ['218846.325' '1']\n",
      " ['239145.966' '1']\n",
      " ['301362.698' '1']\n",
      " ['338503.484' '1']\n",
      " ['346386.207' '1']\n",
      " ['344365.781' '1']\n",
      " ['378424.21' '1']\n",
      " ['403067.357' '1']\n",
      " ['421870.669' '1']\n",
      " ['450249.238' '1']\n",
      " ['493926.719' '1']\n",
      " ['526230.019' '1']\n",
      " ['570925.951' '1']\n",
      " ['613474.8' '1']\n",
      " ['630483.363' '1']\n",
      " ['684904.58' '1']]\n"
     ]
    }
   ],
   "source": [
    "print(\"Ans 4\")\n",
    "print(\"Data contained in columns 2 and 3 from row 1 till row 20\")\n",
    "print(data1[1:21,2:4])"
   ]
  },
  {
   "cell_type": "code",
   "execution_count": 12,
   "id": "89df778a",
   "metadata": {},
   "outputs": [
    {
     "name": "stdout",
     "output_type": "stream",
     "text": [
      "Ans 5\n"
     ]
    }
   ],
   "source": [
    "print(\"Ans 5\")\n",
    "first_row=data1[1:4]\n",
    "last_row=data1[-3:]\n",
    "newar=np.concatenate((first_row,last_row))\n"
   ]
  },
  {
   "cell_type": "code",
   "execution_count": 13,
   "id": "534b3ccb",
   "metadata": {},
   "outputs": [
    {
     "name": "stdout",
     "output_type": "stream",
     "text": [
      "Ans 6\n"
     ]
    }
   ],
   "source": [
    "print(\"Ans 6\")\n",
    "copy_array=data1.copy()\n",
    "copy_array=np.delete(copy_array,0,0)"
   ]
  },
  {
   "cell_type": "code",
   "execution_count": 14,
   "id": "2bcfb977",
   "metadata": {},
   "outputs": [],
   "source": [
    "sort_index=np.argsort(copy_array[:,2])\n",
    "\n",
    "array_sort_netAmount=copy_array[sort_index]"
   ]
  },
  {
   "cell_type": "code",
   "execution_count": 15,
   "id": "c678c7d9",
   "metadata": {},
   "outputs": [
    {
     "name": "stdout",
     "output_type": "stream",
     "text": [
      "Ans 6\n",
      "\n",
      "[['WYETPUS' '198802' '-0.001' '12'\n",
      "  'Electricity Net Generation From Wind, All Sectors'\n",
      "  'Million Kilowatthours']\n",
      " ['WYETPUS' '198807' '-0.004' '12'\n",
      "  'Electricity Net Generation From Wind, All Sectors'\n",
      "  'Million Kilowatthours']\n",
      " ['WYETPUS' '198703' '-0.009' '12'\n",
      "  'Electricity Net Generation From Wind, All Sectors'\n",
      "  'Million Kilowatthours']\n",
      " ...\n",
      " ['OJETPUS' '198713' 'Not Available' '4'\n",
      "  'Electricity Net Generation From Other Gases, All Sectors'\n",
      "  'Million Kilowatthours']\n",
      " ['OJETPUS' '198606' 'Not Available' '4'\n",
      "  'Electricity Net Generation From Other Gases, All Sectors'\n",
      "  'Million Kilowatthours']\n",
      " ['SOETPUS' '197810' 'Not Available' '11'\n",
      "  'Electricity Net Generation From Solar, All Sectors'\n",
      "  'Million Kilowatthours']]\n"
     ]
    }
   ],
   "source": [
    "print(\"Ans 6\\n\")\n",
    "print(array_sort_netAmount)"
   ]
  },
  {
   "cell_type": "code",
   "execution_count": 16,
   "id": "59260636",
   "metadata": {},
   "outputs": [
    {
     "name": "stdout",
     "output_type": "stream",
     "text": [
      "Ans 7\n"
     ]
    }
   ],
   "source": [
    "print(\"Ans 7\")\n"
   ]
  },
  {
   "cell_type": "code",
   "execution_count": 17,
   "id": "01b893b9",
   "metadata": {},
   "outputs": [
    {
     "name": "stdout",
     "output_type": "stream",
     "text": [
      "Ans 8\n",
      "All unique sectors ||\n",
      "                   \\/\n",
      "['Electricity Net Generation From Coal, All Sectors'\n",
      " 'Electricity Net Generation From Conventional Hydroelectric Power, All Sectors'\n",
      " 'Electricity Net Generation From Geothermal, All Sectors'\n",
      " 'Electricity Net Generation From Hydroelectric Pumped Storage, All Sectors'\n",
      " 'Electricity Net Generation From Natural Gas, All Sectors'\n",
      " 'Electricity Net Generation From Nuclear Electric Power, All Sectors'\n",
      " 'Electricity Net Generation From Other Gases, All Sectors'\n",
      " 'Electricity Net Generation From Petroleum, All Sectors'\n",
      " 'Electricity Net Generation From Solar, All Sectors'\n",
      " 'Electricity Net Generation From Waste, All Sectors'\n",
      " 'Electricity Net Generation From Wind, All Sectors'\n",
      " 'Electricity Net Generation From Wood, All Sectors'\n",
      " 'Electricity Net Generation Total (including from sources not shown), All Sectors']\n"
     ]
    }
   ],
   "source": [
    "print(\"Ans 8\")\n",
    "print(\"All unique sectors ||\")\n",
    "print(\"                   \\/\")\n",
    "l1=np.unique(copy_array[:,4])\n",
    "print(l1)"
   ]
  },
  {
   "cell_type": "code",
   "execution_count": 18,
   "id": "da67d40f",
   "metadata": {},
   "outputs": [
    {
     "name": "stdout",
     "output_type": "stream",
     "text": [
      "Ans 9\n",
      "Annual details with source Wind energy  || \n",
      "                                        \\/\n",
      "['WYETPUS' '194913' 'Not Available' '12'\n",
      " 'Electricity Net Generation From Wind, All Sectors'\n",
      " 'Million Kilowatthours']\n",
      "['WYETPUS' '195013' 'Not Available' '12'\n",
      " 'Electricity Net Generation From Wind, All Sectors'\n",
      " 'Million Kilowatthours']\n",
      "['WYETPUS' '195113' 'Not Available' '12'\n",
      " 'Electricity Net Generation From Wind, All Sectors'\n",
      " 'Million Kilowatthours']\n",
      "['WYETPUS' '195213' 'Not Available' '12'\n",
      " 'Electricity Net Generation From Wind, All Sectors'\n",
      " 'Million Kilowatthours']\n",
      "['WYETPUS' '195313' 'Not Available' '12'\n",
      " 'Electricity Net Generation From Wind, All Sectors'\n",
      " 'Million Kilowatthours']\n",
      "['WYETPUS' '195413' 'Not Available' '12'\n",
      " 'Electricity Net Generation From Wind, All Sectors'\n",
      " 'Million Kilowatthours']\n",
      "['WYETPUS' '195513' 'Not Available' '12'\n",
      " 'Electricity Net Generation From Wind, All Sectors'\n",
      " 'Million Kilowatthours']\n",
      "['WYETPUS' '195613' 'Not Available' '12'\n",
      " 'Electricity Net Generation From Wind, All Sectors'\n",
      " 'Million Kilowatthours']\n",
      "['WYETPUS' '195713' 'Not Available' '12'\n",
      " 'Electricity Net Generation From Wind, All Sectors'\n",
      " 'Million Kilowatthours']\n",
      "['WYETPUS' '195813' 'Not Available' '12'\n",
      " 'Electricity Net Generation From Wind, All Sectors'\n",
      " 'Million Kilowatthours']\n",
      "['WYETPUS' '195913' 'Not Available' '12'\n",
      " 'Electricity Net Generation From Wind, All Sectors'\n",
      " 'Million Kilowatthours']\n",
      "['WYETPUS' '196013' 'Not Available' '12'\n",
      " 'Electricity Net Generation From Wind, All Sectors'\n",
      " 'Million Kilowatthours']\n",
      "['WYETPUS' '196113' 'Not Available' '12'\n",
      " 'Electricity Net Generation From Wind, All Sectors'\n",
      " 'Million Kilowatthours']\n",
      "['WYETPUS' '196213' 'Not Available' '12'\n",
      " 'Electricity Net Generation From Wind, All Sectors'\n",
      " 'Million Kilowatthours']\n",
      "['WYETPUS' '196313' 'Not Available' '12'\n",
      " 'Electricity Net Generation From Wind, All Sectors'\n",
      " 'Million Kilowatthours']\n",
      "['WYETPUS' '196413' 'Not Available' '12'\n",
      " 'Electricity Net Generation From Wind, All Sectors'\n",
      " 'Million Kilowatthours']\n",
      "['WYETPUS' '196513' 'Not Available' '12'\n",
      " 'Electricity Net Generation From Wind, All Sectors'\n",
      " 'Million Kilowatthours']\n",
      "['WYETPUS' '196613' 'Not Available' '12'\n",
      " 'Electricity Net Generation From Wind, All Sectors'\n",
      " 'Million Kilowatthours']\n",
      "['WYETPUS' '196713' 'Not Available' '12'\n",
      " 'Electricity Net Generation From Wind, All Sectors'\n",
      " 'Million Kilowatthours']\n",
      "['WYETPUS' '196813' 'Not Available' '12'\n",
      " 'Electricity Net Generation From Wind, All Sectors'\n",
      " 'Million Kilowatthours']\n",
      "['WYETPUS' '196913' 'Not Available' '12'\n",
      " 'Electricity Net Generation From Wind, All Sectors'\n",
      " 'Million Kilowatthours']\n",
      "['WYETPUS' '197013' 'Not Available' '12'\n",
      " 'Electricity Net Generation From Wind, All Sectors'\n",
      " 'Million Kilowatthours']\n",
      "['WYETPUS' '197113' 'Not Available' '12'\n",
      " 'Electricity Net Generation From Wind, All Sectors'\n",
      " 'Million Kilowatthours']\n",
      "['WYETPUS' '197213' 'Not Available' '12'\n",
      " 'Electricity Net Generation From Wind, All Sectors'\n",
      " 'Million Kilowatthours']\n",
      "['WYETPUS' '197313' 'Not Available' '12'\n",
      " 'Electricity Net Generation From Wind, All Sectors'\n",
      " 'Million Kilowatthours']\n",
      "['WYETPUS' '197413' 'Not Available' '12'\n",
      " 'Electricity Net Generation From Wind, All Sectors'\n",
      " 'Million Kilowatthours']\n",
      "['WYETPUS' '197513' 'Not Available' '12'\n",
      " 'Electricity Net Generation From Wind, All Sectors'\n",
      " 'Million Kilowatthours']\n",
      "['WYETPUS' '197613' 'Not Available' '12'\n",
      " 'Electricity Net Generation From Wind, All Sectors'\n",
      " 'Million Kilowatthours']\n",
      "['WYETPUS' '197713' 'Not Available' '12'\n",
      " 'Electricity Net Generation From Wind, All Sectors'\n",
      " 'Million Kilowatthours']\n",
      "['WYETPUS' '197813' 'Not Available' '12'\n",
      " 'Electricity Net Generation From Wind, All Sectors'\n",
      " 'Million Kilowatthours']\n",
      "['WYETPUS' '197913' 'Not Available' '12'\n",
      " 'Electricity Net Generation From Wind, All Sectors'\n",
      " 'Million Kilowatthours']\n",
      "['WYETPUS' '198013' 'Not Available' '12'\n",
      " 'Electricity Net Generation From Wind, All Sectors'\n",
      " 'Million Kilowatthours']\n",
      "['WYETPUS' '198113' 'Not Available' '12'\n",
      " 'Electricity Net Generation From Wind, All Sectors'\n",
      " 'Million Kilowatthours']\n",
      "['WYETPUS' '198213' 'Not Available' '12'\n",
      " 'Electricity Net Generation From Wind, All Sectors'\n",
      " 'Million Kilowatthours']\n",
      "['WYETPUS' '198313' '2.668' '12'\n",
      " 'Electricity Net Generation From Wind, All Sectors'\n",
      " 'Million Kilowatthours']\n",
      "['WYETPUS' '198413' '6.49' '12'\n",
      " 'Electricity Net Generation From Wind, All Sectors'\n",
      " 'Million Kilowatthours']\n",
      "['WYETPUS' '198513' '5.762' '12'\n",
      " 'Electricity Net Generation From Wind, All Sectors'\n",
      " 'Million Kilowatthours']\n",
      "['WYETPUS' '198613' '4.189' '12'\n",
      " 'Electricity Net Generation From Wind, All Sectors'\n",
      " 'Million Kilowatthours']\n",
      "['WYETPUS' '198713' '3.541' '12'\n",
      " 'Electricity Net Generation From Wind, All Sectors'\n",
      " 'Million Kilowatthours']\n",
      "['WYETPUS' '198813' '0.871' '12'\n",
      " 'Electricity Net Generation From Wind, All Sectors'\n",
      " 'Million Kilowatthours']\n",
      "['WYETPUS' '198913' '2112.043' '12'\n",
      " 'Electricity Net Generation From Wind, All Sectors'\n",
      " 'Million Kilowatthours']\n",
      "['WYETPUS' '199013' '2788.6' '12'\n",
      " 'Electricity Net Generation From Wind, All Sectors'\n",
      " 'Million Kilowatthours']\n",
      "['WYETPUS' '199113' '2950.951' '12'\n",
      " 'Electricity Net Generation From Wind, All Sectors'\n",
      " 'Million Kilowatthours']\n",
      "['WYETPUS' '199213' '2887.523' '12'\n",
      " 'Electricity Net Generation From Wind, All Sectors'\n",
      " 'Million Kilowatthours']\n",
      "['WYETPUS' '199313' '3005.827' '12'\n",
      " 'Electricity Net Generation From Wind, All Sectors'\n",
      " 'Million Kilowatthours']\n",
      "['WYETPUS' '199413' '3447.109' '12'\n",
      " 'Electricity Net Generation From Wind, All Sectors'\n",
      " 'Million Kilowatthours']\n",
      "['WYETPUS' '199513' '3164.253' '12'\n",
      " 'Electricity Net Generation From Wind, All Sectors'\n",
      " 'Million Kilowatthours']\n",
      "['WYETPUS' '199613' '3234.069' '12'\n",
      " 'Electricity Net Generation From Wind, All Sectors'\n",
      " 'Million Kilowatthours']\n",
      "['WYETPUS' '199713' '3288.035' '12'\n",
      " 'Electricity Net Generation From Wind, All Sectors'\n",
      " 'Million Kilowatthours']\n",
      "['WYETPUS' '199813' '3025.696' '12'\n",
      " 'Electricity Net Generation From Wind, All Sectors'\n",
      " 'Million Kilowatthours']\n",
      "['WYETPUS' '199913' '4487.998' '12'\n",
      " 'Electricity Net Generation From Wind, All Sectors'\n",
      " 'Million Kilowatthours']\n",
      "['WYETPUS' '200013' '5593.261' '12'\n",
      " 'Electricity Net Generation From Wind, All Sectors'\n",
      " 'Million Kilowatthours']\n",
      "['WYETPUS' '200113' '6737.331' '12'\n",
      " 'Electricity Net Generation From Wind, All Sectors'\n",
      " 'Million Kilowatthours']\n",
      "['WYETPUS' '200213' '10354.28' '12'\n",
      " 'Electricity Net Generation From Wind, All Sectors'\n",
      " 'Million Kilowatthours']\n",
      "['WYETPUS' '200313' '11187.466' '12'\n",
      " 'Electricity Net Generation From Wind, All Sectors'\n",
      " 'Million Kilowatthours']\n",
      "['WYETPUS' '200413' '14143.741' '12'\n",
      " 'Electricity Net Generation From Wind, All Sectors'\n",
      " 'Million Kilowatthours']\n",
      "['WYETPUS' '200513' '17810.549' '12'\n",
      " 'Electricity Net Generation From Wind, All Sectors'\n",
      " 'Million Kilowatthours']\n",
      "['WYETPUS' '200613' '26589.137' '12'\n",
      " 'Electricity Net Generation From Wind, All Sectors'\n",
      " 'Million Kilowatthours']\n",
      "['WYETPUS' '200713' '34449.927' '12'\n",
      " 'Electricity Net Generation From Wind, All Sectors'\n",
      " 'Million Kilowatthours']\n",
      "['WYETPUS' '200813' '55363.1' '12'\n",
      " 'Electricity Net Generation From Wind, All Sectors'\n",
      " 'Million Kilowatthours']\n",
      "['WYETPUS' '200913' '73886.132' '12'\n",
      " 'Electricity Net Generation From Wind, All Sectors'\n",
      " 'Million Kilowatthours']\n",
      "['WYETPUS' '201013' '94652.246' '12'\n",
      " 'Electricity Net Generation From Wind, All Sectors'\n",
      " 'Million Kilowatthours']\n",
      "['WYETPUS' '201113' '120176.599' '12'\n",
      " 'Electricity Net Generation From Wind, All Sectors'\n",
      " 'Million Kilowatthours']\n",
      "['WYETPUS' '201213' '140821.703' '12'\n",
      " 'Electricity Net Generation From Wind, All Sectors'\n",
      " 'Million Kilowatthours']\n",
      "['WYETPUS' '201313' '167839.745' '12'\n",
      " 'Electricity Net Generation From Wind, All Sectors'\n",
      " 'Million Kilowatthours']\n",
      "['WYETPUS' '201413' '181655.282' '12'\n",
      " 'Electricity Net Generation From Wind, All Sectors'\n",
      " 'Million Kilowatthours']\n",
      "['WYETPUS' '201513' '190718.548' '12'\n",
      " 'Electricity Net Generation From Wind, All Sectors'\n",
      " 'Million Kilowatthours']\n",
      "['WYETPUS' '201613' '226992.562' '12'\n",
      " 'Electricity Net Generation From Wind, All Sectors'\n",
      " 'Million Kilowatthours']\n",
      "['WYETPUS' '201713' '254302.662' '12'\n",
      " 'Electricity Net Generation From Wind, All Sectors'\n",
      " 'Million Kilowatthours']\n",
      "['WYETPUS' '201813' '272649.789' '12'\n",
      " 'Electricity Net Generation From Wind, All Sectors'\n",
      " 'Million Kilowatthours']\n"
     ]
    }
   ],
   "source": [
    "print(\"Ans 9\")\n",
    "print(\"Annual details with source Wind energy  || \")\n",
    "print(\"                                        \\/\")\n",
    "for i in data1[1:]:\n",
    "    if(i[1][-2:]=='13'):\n",
    "        if 'Wind' in i[4]:\n",
    "            print(i)\n",
    "        \n",
    "   "
   ]
  },
  {
   "cell_type": "code",
   "execution_count": 19,
   "id": "9d5f09b0",
   "metadata": {},
   "outputs": [
    {
     "name": "stdout",
     "output_type": "stream",
     "text": [
      "Ans 10\n",
      "Total value  642969289.5169997\n"
     ]
    }
   ],
   "source": [
    "print(\"Ans 10\")\n",
    "sum1=0\n",
    "for i in data[1:,2]:\n",
    "    if i not in 'Not Available':\n",
    "        sum1+=float(i)\n",
    "print(\"Total value \",sum1)"
   ]
  },
  {
   "cell_type": "code",
   "execution_count": 20,
   "id": "efcb08cb",
   "metadata": {},
   "outputs": [
    {
     "name": "stdout",
     "output_type": "stream",
     "text": [
      "Ans 11\n"
     ]
    }
   ],
   "source": [
    "copy_data_2=data1[1:,].copy()      # Sir here i have copied the data \n",
    "                                    # so that it does not affect the \n",
    "                                    # main data\n",
    "print(\"Ans 11\")"
   ]
  },
  {
   "cell_type": "code",
   "execution_count": 21,
   "id": "7265a797",
   "metadata": {},
   "outputs": [
    {
     "data": {
      "text/plain": [
       "((8216, 6), (8217, 6))"
      ]
     },
     "execution_count": 21,
     "metadata": {},
     "output_type": "execute_result"
    }
   ],
   "source": [
    "copy_data_2.shape,data1.shape # Here I have seen the shape"
   ]
  },
  {
   "cell_type": "code",
   "execution_count": 22,
   "id": "0c78d3a9",
   "metadata": {},
   "outputs": [],
   "source": [
    "filterd_indices=copy_data_2[:,2]!='Not Available'\n",
    "#  Here I have store the indices of the string \n",
    "#  having numerical values only"
   ]
  },
  {
   "cell_type": "code",
   "execution_count": 23,
   "id": "70a1331e",
   "metadata": {},
   "outputs": [],
   "source": [
    "copy_data_3=copy_data_2[filterd_indices]\n",
    "# Here I have stored all the rows having numerical value\n",
    "# "
   ]
  },
  {
   "cell_type": "code",
   "execution_count": 24,
   "id": "fba7ce4c",
   "metadata": {},
   "outputs": [
    {
     "data": {
      "text/plain": [
       "((8217, 6), (7386, 6))"
      ]
     },
     "execution_count": 24,
     "metadata": {},
     "output_type": "execute_result"
    }
   ],
   "source": [
    "data1.shape,copy_data_3.shape \n",
    "# String value is deleted which is conformed by their shape"
   ]
  },
  {
   "cell_type": "code",
   "execution_count": 25,
   "id": "96502616",
   "metadata": {},
   "outputs": [],
   "source": [
    "copy_data_3[:,2]=copy_data_3[:,2].astype(float) \n",
    "# Then I have converted it to float \n",
    "#  but then also it is showing  string type"
   ]
  },
  {
   "cell_type": "code",
   "execution_count": 26,
   "id": "8603b4eb",
   "metadata": {},
   "outputs": [],
   "source": [
    "# Need to ask\n",
    "for i in copy_data_3[:,2]:\n",
    "    if type(float(i))!=type(float(0.98)):\n",
    "        print(i)\n",
    "        break\n",
    "        \n",
    "#         By this loop my motive is to print non numerical value \n",
    "#         if any but there is no output in the result \n",
    "#          which shows no string value "
   ]
  },
  {
   "cell_type": "code",
   "execution_count": 30,
   "id": "eec15a6c",
   "metadata": {},
   "outputs": [
    {
     "data": {
      "text/plain": [
       "dtype('<U80')"
      ]
     },
     "execution_count": 30,
     "metadata": {},
     "output_type": "execute_result"
    }
   ],
   "source": [
    "copy_data_3[0:1,2].dtype\n",
    "#  Then also dtype is U80 which is unicode of 80 character WHY?"
   ]
  },
  {
   "cell_type": "code",
   "execution_count": 44,
   "id": "09bed336",
   "metadata": {},
   "outputs": [
    {
     "name": "stdout",
     "output_type": "stream",
     "text": [
      "<class 'float'>\n",
      "4174397.655\n",
      "7375\n"
     ]
    }
   ],
   "source": [
    "# Ans 12\n",
    "idx1=0\n",
    "idx2=0\n",
    "max=0.0\n",
    "print(type(max))\n",
    "for i in copy_data_3[:,2]:\n",
    "    if float(i)>float(max):\n",
    "        max=i\n",
    "        idx2=idx1\n",
    "    else:\n",
    "        max=max\n",
    "    idx1+=1\n",
    "    \n",
    "print(max)\n",
    "print(idx2)\n",
    "    \n"
   ]
  },
  {
   "cell_type": "code",
   "execution_count": 47,
   "id": "12183c0c",
   "metadata": {},
   "outputs": [
    {
     "name": "stdout",
     "output_type": "stream",
     "text": [
      "Ans 12\n",
      "What==> Electricity Net Generation Total (including from sources not shown), All Sectors\n",
      "When==> 201813\n"
     ]
    }
   ],
   "source": [
    "print(\"Ans 12\")\n",
    "print(\"What==>\",copy_data_3[idx2,4])\n",
    "print(\"When==>\",copy_data_3[idx2,1])"
   ]
  },
  {
   "cell_type": "code",
   "execution_count": 67,
   "id": "522a9f52",
   "metadata": {},
   "outputs": [
    {
     "name": "stdout",
     "output_type": "stream",
     "text": [
      "Ans 13\n",
      "['Electricity Net Generation From Coal, All Sectors'\n",
      " 'Electricity Net Generation From Conventional Hydroelectric Power, All Sectors'\n",
      " 'Electricity Net Generation From Geothermal, All Sectors'\n",
      " 'Electricity Net Generation From Hydroelectric Pumped Storage, All Sectors'\n",
      " 'Electricity Net Generation From Natural Gas, All Sectors'\n",
      " 'Electricity Net Generation From Nuclear Electric Power, All Sectors'\n",
      " 'Electricity Net Generation From Other Gases, All Sectors'\n",
      " 'Electricity Net Generation From Petroleum, All Sectors'\n",
      " 'Electricity Net Generation From Solar, All Sectors'\n",
      " 'Electricity Net Generation From Waste, All Sectors'\n",
      " 'Electricity Net Generation From Wind, All Sectors'\n",
      " 'Electricity Net Generation From Wood, All Sectors'\n",
      " 'Electricity Net Generation Total (including from sources not shown), All Sectors']\n"
     ]
    }
   ],
   "source": [
    "print(\"Ans 13\")\n",
    "ar=np.unique(data1[1:,4])\n",
    "print(ar)"
   ]
  },
  {
   "cell_type": "code",
   "execution_count": 68,
   "id": "87cc3dbd",
   "metadata": {},
   "outputs": [
    {
     "name": "stdout",
     "output_type": "stream",
     "text": [
      "Ans 14\n"
     ]
    }
   ],
   "source": [
    "# Ans 14\n",
    "freq=[]\n",
    "for i in ar:\n",
    "    freq.append(np.sum(copy_data_3[:,4]==i))"
   ]
  },
  {
   "cell_type": "code",
   "execution_count": 77,
   "id": "396d81a8",
   "metadata": {},
   "outputs": [
    {
     "name": "stdout",
     "output_type": "stream",
     "text": [
      "Ans 14\n",
      "Largest Contributor\n",
      " Electricity Net Generation From Coal, All Sectors\n"
     ]
    }
   ],
   "source": [
    "print(\"Ans 14\")\n",
    "max_freq=np.max(freq)\n",
    "idx=freq.index(max_freq)\n",
    "print(\"Largest Contributor\\n\",ar[idx])\n"
   ]
  },
  {
   "cell_type": "code",
   "execution_count": 79,
   "id": "eb2b4c94",
   "metadata": {},
   "outputs": [
    {
     "name": "stdout",
     "output_type": "stream",
     "text": [
      "Ans 16\n",
      "Electricity Net Generation From Coal, All Sectors 632\n",
      "Electricity Net Generation From Conventional Hydroelectric Power, All Sectors 632\n",
      "Electricity Net Generation From Geothermal, All Sectors 621\n",
      "Electricity Net Generation From Hydroelectric Pumped Storage, All Sectors 387\n",
      "Electricity Net Generation From Natural Gas, All Sectors 632\n",
      "Electricity Net Generation From Nuclear Electric Power, All Sectors 632\n",
      "Electricity Net Generation From Other Gases, All Sectors 400\n",
      "Electricity Net Generation From Petroleum, All Sectors 632\n",
      "Electricity Net Generation From Solar, All Sectors 465\n",
      "Electricity Net Generation From Waste, All Sectors 611\n",
      "Electricity Net Generation From Wind, All Sectors 478\n",
      "Electricity Net Generation From Wood, All Sectors 632\n",
      "Electricity Net Generation Total (including from sources not shown), All Sectors 632\n"
     ]
    }
   ],
   "source": [
    "# print(\"Ans 16\")\n",
    "for i,j in zip(ar,freq):  # for see purpose only\n",
    "    print(i,j)"
   ]
  },
  {
   "cell_type": "code",
   "execution_count": 91,
   "id": "845e1754",
   "metadata": {},
   "outputs": [
    {
     "name": "stdout",
     "output_type": "stream",
     "text": [
      "Ans 16 ||\n",
      "       \\/\n",
      "Electricity Net Generation From Solar, All Sectors  Contribution==> 6.296 %\n",
      "Electricity Net Generation From Wind, All Sectors  Contribution==> 6.472 %\n",
      "Combined contribution : 12.767 %\n"
     ]
    }
   ],
   "source": [
    "print(\"Ans 16 ||\")\n",
    "print(\"       \\/\")\n",
    "sum_freq=sum(freq)\n",
    "\n",
    "combined_contribution=0\n",
    "for i,j in zip(ar,freq):\n",
    "    if 'Wind' in i or 'Solar' in i:\n",
    "        print(i,\" Contribution==>\",np.round((j/sum_freq)*100,3),\"%\")\n",
    "        combined_contribution+=j\n",
    "print(\"Combined contribution :\",np.round((combined_contribution/sum_freq)*100,3),\"%\")\n",
    "\n",
    "\n"
   ]
  },
  {
   "cell_type": "code",
   "execution_count": 92,
   "id": "82a6deb7",
   "metadata": {},
   "outputs": [
    {
     "name": "stdout",
     "output_type": "stream",
     "text": [
      "Electricity Net Generation From Coal, All Sectors  Contribution==> 8.557 %\n",
      "Electricity Net Generation From Conventional Hydroelectric Power, All Sectors  Contribution==> 8.557 %\n",
      "Electricity Net Generation From Geothermal, All Sectors  Contribution==> 8.408 %\n",
      "Electricity Net Generation From Hydroelectric Pumped Storage, All Sectors  Contribution==> 5.24 %\n",
      "Electricity Net Generation From Natural Gas, All Sectors  Contribution==> 8.557 %\n",
      "Electricity Net Generation From Nuclear Electric Power, All Sectors  Contribution==> 8.557 %\n",
      "Electricity Net Generation From Other Gases, All Sectors  Contribution==> 5.416 %\n",
      "Electricity Net Generation From Petroleum, All Sectors  Contribution==> 8.557 %\n",
      "Electricity Net Generation From Solar, All Sectors  Contribution==> 6.296 %\n",
      "Electricity Net Generation From Waste, All Sectors  Contribution==> 8.272 %\n",
      "Electricity Net Generation From Wind, All Sectors  Contribution==> 6.472 %\n",
      "Electricity Net Generation From Wood, All Sectors  Contribution==> 8.557 %\n",
      "Electricity Net Generation Total (including from sources not shown), All Sectors  Contribution==> 8.557 %\n"
     ]
    }
   ],
   "source": [
    "for i,j in zip(ar,freq):\n",
    "    print(i,\" Contribution==>\",np.round((j/sum_freq)*100,3),\"%\")\n"
   ]
  },
  {
   "cell_type": "code",
   "execution_count": 93,
   "id": "cbb63c19",
   "metadata": {},
   "outputs": [
    {
     "name": "stdout",
     "output_type": "stream",
     "text": [
      "Ans 16 part 2\n",
      "Here we can see that apart from wind other source have higher contribution \n",
      " So we can say that The national grid is not fundamentally shifting toward wind energy.\n"
     ]
    }
   ],
   "source": [
    "print(\"Ans 16 part 2\")\n",
    "print(\"Here we can see that apart from wind other source have higher contribution \\n So we can say that The national grid is not fundamentally shifting toward wind energy.\")"
   ]
  },
  {
   "cell_type": "code",
   "execution_count": null,
   "id": "d164adb6",
   "metadata": {},
   "outputs": [],
   "source": []
  },
  {
   "cell_type": "code",
   "execution_count": null,
   "id": "7de44860",
   "metadata": {},
   "outputs": [],
   "source": []
  },
  {
   "cell_type": "code",
   "execution_count": null,
   "id": "ee0ae61d",
   "metadata": {},
   "outputs": [],
   "source": []
  },
  {
   "cell_type": "code",
   "execution_count": null,
   "id": "db3bfa8b",
   "metadata": {},
   "outputs": [],
   "source": []
  },
  {
   "cell_type": "code",
   "execution_count": null,
   "id": "1f82d577",
   "metadata": {},
   "outputs": [],
   "source": []
  },
  {
   "cell_type": "code",
   "execution_count": null,
   "id": "440949c5",
   "metadata": {},
   "outputs": [],
   "source": []
  },
  {
   "cell_type": "code",
   "execution_count": null,
   "id": "e023d214",
   "metadata": {},
   "outputs": [],
   "source": []
  },
  {
   "cell_type": "code",
   "execution_count": null,
   "id": "58657538",
   "metadata": {},
   "outputs": [],
   "source": []
  },
  {
   "cell_type": "code",
   "execution_count": null,
   "id": "36877ead",
   "metadata": {},
   "outputs": [],
   "source": []
  },
  {
   "cell_type": "code",
   "execution_count": null,
   "id": "21d0124b",
   "metadata": {},
   "outputs": [],
   "source": []
  },
  {
   "cell_type": "code",
   "execution_count": null,
   "id": "514efedb",
   "metadata": {},
   "outputs": [],
   "source": []
  },
  {
   "cell_type": "code",
   "execution_count": null,
   "id": "9c5312ff",
   "metadata": {},
   "outputs": [],
   "source": []
  },
  {
   "cell_type": "code",
   "execution_count": null,
   "id": "ac29ac0a",
   "metadata": {},
   "outputs": [],
   "source": []
  },
  {
   "cell_type": "code",
   "execution_count": null,
   "id": "b6d89e66",
   "metadata": {},
   "outputs": [],
   "source": []
  },
  {
   "cell_type": "code",
   "execution_count": null,
   "id": "328d06cc",
   "metadata": {},
   "outputs": [],
   "source": []
  },
  {
   "cell_type": "code",
   "execution_count": null,
   "id": "22f9310a",
   "metadata": {},
   "outputs": [],
   "source": []
  },
  {
   "cell_type": "code",
   "execution_count": 42,
   "id": "e7f2a6a1",
   "metadata": {},
   "outputs": [],
   "source": [
    "# count=1\n",
    "# l1=[]\n",
    "# for i in copy_data_2[1:,]:\n",
    "#     if i[2] == \"Not Available\":\n",
    "# #         print(i)\n",
    "#         print(count)\n",
    "#         l1.append(count)\n",
    "        \n",
    "#     count+=1\n",
    "# print(count)"
   ]
  },
  {
   "cell_type": "code",
   "execution_count": 43,
   "id": "95c6ca4e",
   "metadata": {},
   "outputs": [],
   "source": [
    "# for i in l1:\n",
    "#     copy_data_2=np.delete(copy_data_2,i,0)"
   ]
  },
  {
   "cell_type": "code",
   "execution_count": 44,
   "id": "eb4e6f08",
   "metadata": {},
   "outputs": [],
   "source": [
    "# copy_data_2=copy_data_2[1:,2].astype(float)"
   ]
  },
  {
   "cell_type": "code",
   "execution_count": 45,
   "id": "5f937614",
   "metadata": {},
   "outputs": [],
   "source": [
    "# count=1\n",
    "# for i in copy_data_2[1:,]:\n",
    "#     if i[2] == \"Not Available\":\n",
    "# #         print(i)\n",
    "#         print(count)\n",
    "#     count+=1"
   ]
  },
  {
   "cell_type": "code",
   "execution_count": null,
   "id": "c28bc672",
   "metadata": {},
   "outputs": [],
   "source": []
  }
 ],
 "metadata": {
  "kernelspec": {
   "display_name": "Python 3 (ipykernel)",
   "language": "python",
   "name": "python3"
  },
  "language_info": {
   "codemirror_mode": {
    "name": "ipython",
    "version": 3
   },
   "file_extension": ".py",
   "mimetype": "text/x-python",
   "name": "python",
   "nbconvert_exporter": "python",
   "pygments_lexer": "ipython3",
   "version": "3.10.9"
  }
 },
 "nbformat": 4,
 "nbformat_minor": 5
}
